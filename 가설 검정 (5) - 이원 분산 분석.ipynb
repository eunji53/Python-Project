{
 "cells": [
  {
   "cell_type": "markdown",
   "id": "2f5a1280-893d-4cdf-8886-33e9f2db8caa",
   "metadata": {},
   "source": [
    "# 이원 분산 분석\n",
    "이원 분산 분석(Two-way ANOVA)은 두 개의 범주형 독립변수(요인)가 종속변수에 미치는 영향을 동시에 검정하는 통계 기법입니다. 이 분석을 통해 각 요인의 주 효과(Main Effect)와 두 요인 간의 상호작용(Interaction Effect)이 종속변수에 미치는 영향을 파악할 수 있습니다.\n",
    "\n",
    "이원 분산 분석에서는 세 가지 가설을 검정합니다.\n",
    "\n",
    "```\n",
    "요인 A의 주 효과\n",
    "귀무가설 : 요인 A의 모든 수준에서 종속변수의 평균이 동일하다.\n",
    "대립가설 : 적어도 한 수준에서 평균에 차이가 있다.\n",
    "\n",
    "요인 B의 주 효과\n",
    "귀무가설 : 요인 B의 모든 수준에서 종속변수의 평균이 동일하다.\n",
    "대립가설 : 적어도 한 수준에서 평균에 차이가 있다.\n",
    "\n",
    "상호작용 효과\n",
    "귀무가설 : 요인 A와 요인 B 간에 상호작용 효과가 없다.\n",
    "대립가설 : 요인 A와 요인 B가 결합하여 종속변수에 미치는 영향이 다르다.\n",
    "```\n",
    "\n",
    "* 정규성: 각 그룹(요인 조합)의 잔차가 정규분포를 따라야 합니다.\n",
    "* 등분산성(동질성): 모든 그룹의 분산이 동일해야 합니다.\n",
    "* 독립성: 각 관측치는 서로 독립적이어야 합니다."
   ]
  },
  {
   "cell_type": "code",
   "execution_count": 4,
   "id": "556e79d0-0220-421f-a473-3115a40e12a3",
   "metadata": {},
   "outputs": [
    {
     "data": {
      "text/html": [
       "<div>\n",
       "<style scoped>\n",
       "    .dataframe tbody tr th:only-of-type {\n",
       "        vertical-align: middle;\n",
       "    }\n",
       "\n",
       "    .dataframe tbody tr th {\n",
       "        vertical-align: top;\n",
       "    }\n",
       "\n",
       "    .dataframe thead th {\n",
       "        text-align: right;\n",
       "    }\n",
       "</style>\n",
       "<table border=\"1\" class=\"dataframe\">\n",
       "  <thead>\n",
       "    <tr style=\"text-align: right;\">\n",
       "      <th></th>\n",
       "      <th>나무</th>\n",
       "      <th>비료</th>\n",
       "      <th>성장률</th>\n",
       "    </tr>\n",
       "  </thead>\n",
       "  <tbody>\n",
       "    <tr>\n",
       "      <th>0</th>\n",
       "      <td>A</td>\n",
       "      <td>1</td>\n",
       "      <td>54.967142</td>\n",
       "    </tr>\n",
       "    <tr>\n",
       "      <th>1</th>\n",
       "      <td>A</td>\n",
       "      <td>1</td>\n",
       "      <td>48.617357</td>\n",
       "    </tr>\n",
       "    <tr>\n",
       "      <th>2</th>\n",
       "      <td>A</td>\n",
       "      <td>1</td>\n",
       "      <td>56.476885</td>\n",
       "    </tr>\n",
       "    <tr>\n",
       "      <th>3</th>\n",
       "      <td>A</td>\n",
       "      <td>1</td>\n",
       "      <td>65.230299</td>\n",
       "    </tr>\n",
       "    <tr>\n",
       "      <th>4</th>\n",
       "      <td>A</td>\n",
       "      <td>1</td>\n",
       "      <td>47.658466</td>\n",
       "    </tr>\n",
       "  </tbody>\n",
       "</table>\n",
       "</div>"
      ],
      "text/plain": [
       "  나무  비료        성장률\n",
       "0  A   1  54.967142\n",
       "1  A   1  48.617357\n",
       "2  A   1  56.476885\n",
       "3  A   1  65.230299\n",
       "4  A   1  47.658466"
      ]
     },
     "execution_count": 4,
     "metadata": {},
     "output_type": "execute_result"
    }
   ],
   "source": [
    "import pandas as pd\n",
    "\n",
    "tree = pd.read_csv(\"tree.csv\")\n",
    "tree.head()"
   ]
  },
  {
   "cell_type": "code",
   "execution_count": 8,
   "id": "7f4480b0-09d8-4414-8b2e-87614416f809",
   "metadata": {},
   "outputs": [
    {
     "data": {
      "image/png": "[encoded data removed]",
      "text/plain": [
       "<Figure size 640x480 with 1 Axes>"
      ]
     },
     "metadata": {},
     "output_type": "display_data"
    }
   ],
   "source": [
    "import seaborn as sns\n",
    "import koreanize_matplotlib\n",
    "import matplotlib.pyplot as plt\n",
    "\n",
    "sns.boxplot(x='나무', y='성장률', hue='비료', data=tree)\n",
    "plt.title(\"비료별 성장률 비교\")\n",
    "plt.grid()\n",
    "plt.show()"
   ]
  },
  {
   "cell_type": "code",
   "execution_count": 10,
   "id": "b50560a9-a305-4c3d-bd58-f56f5009b749",
   "metadata": {},
   "outputs": [
    {
     "name": "stdout",
     "output_type": "stream",
     "text": [
      "각 그룹별 정규성 검정 결과\n",
      "그룹 ('A', 1): Shapiro-Wilk 통계량 = 0.908, p-값 = 0.265\n",
      "  → 정규성을 만족합니다.\n",
      "그룹 ('A', 2): Shapiro-Wilk 통계량 = 0.951, p-값 = 0.677\n",
      "  → 정규성을 만족합니다.\n",
      "그룹 ('A', 3): Shapiro-Wilk 통계량 = 0.959, p-값 = 0.772\n",
      "  → 정규성을 만족합니다.\n",
      "그룹 ('B', 1): Shapiro-Wilk 통계량 = 0.967, p-값 = 0.862\n",
      "  → 정규성을 만족합니다.\n",
      "그룹 ('B', 2): Shapiro-Wilk 통계량 = 0.969, p-값 = 0.886\n",
      "  → 정규성을 만족합니다.\n",
      "그룹 ('B', 3): Shapiro-Wilk 통계량 = 0.904, p-값 = 0.241\n",
      "  → 정규성을 만족합니다.\n",
      "그룹 ('C', 1): Shapiro-Wilk 통계량 = 0.953, p-값 = 0.708\n",
      "  → 정규성을 만족합니다.\n",
      "그룹 ('C', 2): Shapiro-Wilk 통계량 = 0.897, p-값 = 0.204\n",
      "  → 정규성을 만족합니다.\n",
      "그룹 ('C', 3): Shapiro-Wilk 통계량 = 0.927, p-값 = 0.418\n",
      "  → 정규성을 만족합니다.\n",
      "그룹 ('D', 1): Shapiro-Wilk 통계량 = 0.968, p-값 = 0.867\n",
      "  → 정규성을 만족합니다.\n",
      "그룹 ('D', 2): Shapiro-Wilk 통계량 = 0.926, p-값 = 0.412\n",
      "  → 정규성을 만족합니다.\n",
      "그룹 ('D', 3): Shapiro-Wilk 통계량 = 0.959, p-값 = 0.776\n",
      "  → 정규성을 만족합니다.\n"
     ]
    }
   ],
   "source": [
    "import scipy.stats as stats\n",
    "\n",
    "# 정규성 검정 (Shapiro-Wilk 검정)\n",
    "print(\"각 그룹별 정규성 검정 결과\")\n",
    "grouped = tree.groupby(['나무', '비료'])\n",
    "\n",
    "for name, group in grouped:\n",
    "    stat, p = stats.shapiro(group['성장률'])\n",
    "    print(f\"그룹 {name}: Shapiro-Wilk 통계량 = {stat:.3f}, p-값 = {p:.3f}\")\n",
    "    if p > 0.05:\n",
    "        print(\"  → 정규성을 만족합니다.\")\n",
    "    else:\n",
    "        print(\"  → 정규성을 만족하지 않습니다.\")"
   ]
  },
  {
   "cell_type": "code",
   "execution_count": 11,
   "id": "4e59dc82-8330-471f-9bbb-9453626b7c3a",
   "metadata": {},
   "outputs": [
    {
     "name": "stdout",
     "output_type": "stream",
     "text": [
      "Levene 검정 결과\n",
      "Levene 통계량 = 0.630, p-값 = 0.799\n",
      "→ 각 그룹의 분산이 동일하다고 볼 수 있습니다.\n"
     ]
    }
   ],
   "source": [
    "# 등분산성 검정 (Levene 검정)\n",
    "groups = [group['성장률'].values for name, group in grouped]\n",
    "stat_levene, p_levene = stats.levene(*groups)\n",
    "print(\"Levene 검정 결과\")\n",
    "print(f\"Levene 통계량 = {stat_levene:.3f}, p-값 = {p_levene:.3f}\")\n",
    "if p_levene > 0.05:\n",
    "    print(\"→ 각 그룹의 분산이 동일하다고 볼 수 있습니다.\")\n",
    "else:\n",
    "    print(\"→ 등분산성이 만족되지 않습니다.\")"
   ]
  },
  {
   "cell_type": "code",
   "execution_count": 13,
   "id": "1acb4bf2-03f1-4b61-9efa-686ba86df4ad",
   "metadata": {},
   "outputs": [
    {
     "name": "stdout",
     "output_type": "stream",
     "text": [
      "                df       sum_sq      mean_sq          F        PR(>F)\n",
      "C(나무)          3.0  4783.353938  1594.451313  18.855528  6.600012e-10\n",
      "C(비료)          2.0  1127.924259   563.962129   6.669256  1.857612e-03\n",
      "C(나무):C(비료)    6.0   717.520672   119.586779   1.414199  2.157357e-01\n",
      "Residual     108.0  9132.639448    84.561476        NaN           NaN\n"
     ]
    }
   ],
   "source": [
    "from statsmodels.formula.api import ols\n",
    "import statsmodels.api as sm\n",
    "\n",
    "# 범주형 변수은 반드시 C() 를 사용.\n",
    "model = ols('성장률 ~ C(나무) + C(비료) + C(나무):C(비료)', data=tree).fit()\n",
    "anova_table = sm.stats.anova_lm(model)\n",
    "print(anova_table)\n",
    "\n",
    "# 나무 요인이 성장률에 통계적으로 유의한 영향을 미친다는 강력한 증거.\n",
    "# 비료 요인 역시 성장률에 유의미한 영향을 미친다고 추론.\n",
    "# 나무와 비료의 상호작용 효과는 통계적으로 유의하지 않습니다. 즉, 비료의 효과가 나무의 종류에 따라 달라지지 않는다고 볼 수 있습니다."
   ]
  },
  {
   "cell_type": "code",
   "execution_count": 41,
   "id": "cbb731cc-7a82-4830-93a5-fb6a5a0d3c1f",
   "metadata": {},
   "outputs": [
    {
     "data": {
      "text/html": [
       "<div>\n",
       "<style scoped>\n",
       "    .dataframe tbody tr th:only-of-type {\n",
       "        vertical-align: middle;\n",
       "    }\n",
       "\n",
       "    .dataframe tbody tr th {\n",
       "        vertical-align: top;\n",
       "    }\n",
       "\n",
       "    .dataframe thead th {\n",
       "        text-align: right;\n",
       "    }\n",
       "</style>\n",
       "<table border=\"1\" class=\"dataframe\">\n",
       "  <thead>\n",
       "    <tr style=\"text-align: right;\">\n",
       "      <th></th>\n",
       "      <th>df</th>\n",
       "      <th>sum_sq</th>\n",
       "      <th>mean_sq</th>\n",
       "      <th>F</th>\n",
       "      <th>PR(&gt;F)</th>\n",
       "    </tr>\n",
       "  </thead>\n",
       "  <tbody>\n",
       "    <tr>\n",
       "      <th>C(나무)</th>\n",
       "      <td>3.0</td>\n",
       "      <td>4783.353938</td>\n",
       "      <td>1594.451313</td>\n",
       "      <td>18.855528</td>\n",
       "      <td>6.600012e-10</td>\n",
       "    </tr>\n",
       "    <tr>\n",
       "      <th>C(비료)</th>\n",
       "      <td>2.0</td>\n",
       "      <td>1127.924259</td>\n",
       "      <td>563.962129</td>\n",
       "      <td>6.669256</td>\n",
       "      <td>1.857612e-03</td>\n",
       "    </tr>\n",
       "    <tr>\n",
       "      <th>C(나무):C(비료)</th>\n",
       "      <td>6.0</td>\n",
       "      <td>717.520672</td>\n",
       "      <td>119.586779</td>\n",
       "      <td>1.414199</td>\n",
       "      <td>2.157357e-01</td>\n",
       "    </tr>\n",
       "    <tr>\n",
       "      <th>Residual</th>\n",
       "      <td>108.0</td>\n",
       "      <td>9132.639448</td>\n",
       "      <td>84.561476</td>\n",
       "      <td>NaN</td>\n",
       "      <td>NaN</td>\n",
       "    </tr>\n",
       "  </tbody>\n",
       "</table>\n",
       "</div>"
      ],
      "text/plain": [
       "                df       sum_sq      mean_sq          F        PR(>F)\n",
       "C(나무)          3.0  4783.353938  1594.451313  18.855528  6.600012e-10\n",
       "C(비료)          2.0  1127.924259   563.962129   6.669256  1.857612e-03\n",
       "C(나무):C(비료)    6.0   717.520672   119.586779   1.414199  2.157357e-01\n",
       "Residual     108.0  9132.639448    84.561476        NaN           NaN"
      ]
     },
     "execution_count": 41,
     "metadata": {},
     "output_type": "execute_result"
    }
   ],
   "source": [
    "model = ols('성장률 ~ C(나무) * C(비료)', data=tree).fit()\n",
    "anova_table = sm.stats.anova_lm(model)\n",
    "anova_table"
   ]
  },
  {
   "cell_type": "code",
   "execution_count": 19,
   "id": "c58df2cc-8f22-47cc-9847-a41f90284f45",
   "metadata": {},
   "outputs": [
    {
     "name": "stdout",
     "output_type": "stream",
     "text": [
      "Tukey HSD 사후 분석 결과 (나무)\n",
      "Multiple Comparison of Means - Tukey HSD, FWER=0.05 \n",
      "====================================================\n",
      "group1 group2 meandiff p-adj   lower   upper  reject\n",
      "----------------------------------------------------\n",
      "     A      B   5.6698 0.1143 -0.8776 12.2173  False\n",
      "     A      C  12.0103    0.0  5.4628 18.5578   True\n",
      "     A      D   16.679    0.0 10.1315 23.2264   True\n",
      "     B      C   6.3405 0.0614  -0.207 12.8879  False\n",
      "     B      D  11.0091 0.0002  4.4616 17.5566   True\n",
      "     C      D   4.6686 0.2517 -1.8788 11.2161  False\n",
      "----------------------------------------------------\n"
     ]
    }
   ],
   "source": [
    "from statsmodels.stats.multicomp import pairwise_tukeyhsd\n",
    "\n",
    "# 사후 분석 (예: 식이 요법의 주 효과에 대해 Tukey HSD 검정)\n",
    "tukey = pairwise_tukeyhsd(endog=tree['성장률'], groups=tree['나무'], alpha=0.05)\n",
    "print(\"Tukey HSD 사후 분석 결과 (나무)\")\n",
    "print(tukey)\n",
    "\n",
    "# Tukey HSD 사후 분석을 통해 나무의 각 그룹(예: A, B, C, D) 간 평균 차이를 비교한 것\n",
    "# 해석: (예시)p-값이 0.05보다 크고, 신뢰구간에 0이 포함되므로, 그룹 A와 B 사이의 평균 차이는 통계적으로 유의하지 않습니다."
   ]
  },
  {
   "cell_type": "code",
   "execution_count": 21,
   "id": "3b2f2037-66c4-4332-9670-aa5c6a84e8f2",
   "metadata": {},
   "outputs": [
    {
     "data": {
      "image/png": "[encoded data removed]",
      "text/plain": [
       "<Figure size 1000x600 with 1 Axes>"
      ]
     },
     "metadata": {},
     "output_type": "display_data"
    }
   ],
   "source": [
    "tukey.plot_simultaneous()\n",
    "plt.title(\"Tukey HSD 검정 (나무)\")\n",
    "plt.grid()\n",
    "plt.show() # 평균 차이 그림."
   ]
  },
  {
   "cell_type": "markdown",
   "id": "60687bac-b5a5-4de5-a9ad-819c48416a28",
   "metadata": {},
   "source": [
    "## 연습문제\n",
    "한 연구자가 체중 감량에 미치는 두 가지 요인의 효과를 조사하고자 하였습니다.\n",
    "\n",
    "```\n",
    "요인 1: 식이 요법 (Diet)\n",
    "    - 수준: 고단백 (HighProtein), 저탄수화물 (LowCarb), 균형 잡힌 식단 (Balanced)\n",
    "\n",
    "요인 2: 운동 강도 (Exercise)\n",
    "    - 수준: 낮음 (Low), 높음 (High)\n",
    "```\n",
    "\n",
    "주효과와 상호작용 효과를 포함하는 이원 분산 분석 모형을 구축하세요. (유의수준 0.05)"
   ]
  },
  {
   "cell_type": "code",
   "execution_count": 23,
   "id": "b98de037-df1c-431f-836b-112f4cd1a891",
   "metadata": {},
   "outputs": [
    {
     "data": {
      "text/html": [
       "<div>\n",
       "<style scoped>\n",
       "    .dataframe tbody tr th:only-of-type {\n",
       "        vertical-align: middle;\n",
       "    }\n",
       "\n",
       "    .dataframe tbody tr th {\n",
       "        vertical-align: top;\n",
       "    }\n",
       "\n",
       "    .dataframe thead th {\n",
       "        text-align: right;\n",
       "    }\n",
       "</style>\n",
       "<table border=\"1\" class=\"dataframe\">\n",
       "  <thead>\n",
       "    <tr style=\"text-align: right;\">\n",
       "      <th></th>\n",
       "      <th>Diet</th>\n",
       "      <th>Exercise</th>\n",
       "      <th>WeightLoss</th>\n",
       "    </tr>\n",
       "  </thead>\n",
       "  <tbody>\n",
       "    <tr>\n",
       "      <th>0</th>\n",
       "      <td>HighProtein</td>\n",
       "      <td>Low</td>\n",
       "      <td>3.0</td>\n",
       "    </tr>\n",
       "    <tr>\n",
       "      <th>1</th>\n",
       "      <td>HighProtein</td>\n",
       "      <td>Low</td>\n",
       "      <td>3.5</td>\n",
       "    </tr>\n",
       "    <tr>\n",
       "      <th>2</th>\n",
       "      <td>HighProtein</td>\n",
       "      <td>Low</td>\n",
       "      <td>3.1</td>\n",
       "    </tr>\n",
       "    <tr>\n",
       "      <th>3</th>\n",
       "      <td>HighProtein</td>\n",
       "      <td>Low</td>\n",
       "      <td>3.3</td>\n",
       "    </tr>\n",
       "    <tr>\n",
       "      <th>4</th>\n",
       "      <td>HighProtein</td>\n",
       "      <td>Low</td>\n",
       "      <td>3.2</td>\n",
       "    </tr>\n",
       "  </tbody>\n",
       "</table>\n",
       "</div>"
      ],
      "text/plain": [
       "          Diet Exercise  WeightLoss\n",
       "0  HighProtein      Low         3.0\n",
       "1  HighProtein      Low         3.5\n",
       "2  HighProtein      Low         3.1\n",
       "3  HighProtein      Low         3.3\n",
       "4  HighProtein      Low         3.2"
      ]
     },
     "execution_count": 23,
     "metadata": {},
     "output_type": "execute_result"
    }
   ],
   "source": [
    "df = pd.read_csv(\"식이요법과 운동강도.csv\")\n",
    "df.head()"
   ]
  },
  {
   "cell_type": "code",
   "execution_count": 25,
   "id": "7c8f1a7b-5ebf-4a44-b475-d6258be3fd7d",
   "metadata": {},
   "outputs": [
    {
     "data": {
      "image/png": "[encoded data removed]",
      "text/plain": [
       "<Figure size 640x480 with 1 Axes>"
      ]
     },
     "metadata": {},
     "output_type": "display_data"
    }
   ],
   "source": [
    "sns.boxplot(x='Diet', y='WeightLoss', hue='Exercise', data=df)\n",
    "plt.title(\"식이요법 체중 감소 비교\")\n",
    "plt.grid()\n",
    "plt.show()"
   ]
  },
  {
   "cell_type": "code",
   "execution_count": 28,
   "id": "726e49ad-a347-4161-86bc-5e597170b7c4",
   "metadata": {},
   "outputs": [
    {
     "name": "stdout",
     "output_type": "stream",
     "text": [
      "각 그룹별 정규성 검정 결과\n",
      "그룹 ('Balanced', 'High'): Shapiro-Wilk 통계량 = 0.961, p-값 = 0.814\n",
      "  → 정규성을 만족합니다.\n",
      "그룹 ('Balanced', 'Low'): Shapiro-Wilk 통계량 = 0.961, p-값 = 0.814\n",
      "  → 정규성을 만족합니다.\n",
      "그룹 ('HighProtein', 'High'): Shapiro-Wilk 통계량 = 0.956, p-값 = 0.777\n",
      "  → 정규성을 만족합니다.\n",
      "그룹 ('HighProtein', 'Low'): Shapiro-Wilk 통계량 = 0.979, p-값 = 0.928\n",
      "  → 정규성을 만족합니다.\n",
      "그룹 ('LowCarb', 'High'): Shapiro-Wilk 통계량 = 0.961, p-값 = 0.814\n",
      "  → 정규성을 만족합니다.\n",
      "그룹 ('LowCarb', 'Low'): Shapiro-Wilk 통계량 = 0.961, p-값 = 0.814\n",
      "  → 정규성을 만족합니다.\n"
     ]
    }
   ],
   "source": [
    "# 정규성 검정 (Shapiro-Wilk 검정)\n",
    "print(\"각 그룹별 정규성 검정 결과\")\n",
    "grouped = df.groupby(['Diet', 'Exercise'])\n",
    "\n",
    "for name, group in grouped:\n",
    "    stat, p = stats.shapiro(group['WeightLoss'])\n",
    "    print(f\"그룹 {name}: Shapiro-Wilk 통계량 = {stat:.3f}, p-값 = {p:.3f}\")\n",
    "    if p > 0.05:\n",
    "        print(\"  → 정규성을 만족합니다.\")\n",
    "    else:\n",
    "        print(\"  → 정규성을 만족하지 않습니다.\")"
   ]
  },
  {
   "cell_type": "code",
   "execution_count": 29,
   "id": "4b4ed284-5eb1-4b7d-b1c3-b0aa14ea5a14",
   "metadata": {},
   "outputs": [
    {
     "name": "stdout",
     "output_type": "stream",
     "text": [
      "Levene 검정 결과\n",
      "Levene 통계량 = 0.345, p-값 = 0.880\n",
      "→ 각 그룹의 분산이 동일하다고 볼 수 있습니다.\n"
     ]
    }
   ],
   "source": [
    "# 등분산성 검정 (Levene 검정)\n",
    "groups = [group['WeightLoss'].values for name, group in grouped]\n",
    "stat_levene, p_levene = stats.levene(*groups)\n",
    "print(\"Levene 검정 결과\")\n",
    "print(f\"Levene 통계량 = {stat_levene:.3f}, p-값 = {p_levene:.3f}\")\n",
    "if p_levene > 0.05:\n",
    "    print(\"→ 각 그룹의 분산이 동일하다고 볼 수 있습니다.\")\n",
    "else:\n",
    "    print(\"→ 등분산성이 만족되지 않습니다.\")"
   ]
  },
  {
   "cell_type": "code",
   "execution_count": 34,
   "id": "64e3b7e0-137f-4e83-98d8-9fb98c0c348b",
   "metadata": {},
   "outputs": [
    {
     "data": {
      "text/html": [
       "<div>\n",
       "<style scoped>\n",
       "    .dataframe tbody tr th:only-of-type {\n",
       "        vertical-align: middle;\n",
       "    }\n",
       "\n",
       "    .dataframe tbody tr th {\n",
       "        vertical-align: top;\n",
       "    }\n",
       "\n",
       "    .dataframe thead th {\n",
       "        text-align: right;\n",
       "    }\n",
       "</style>\n",
       "<table border=\"1\" class=\"dataframe\">\n",
       "  <thead>\n",
       "    <tr style=\"text-align: right;\">\n",
       "      <th></th>\n",
       "      <th>df</th>\n",
       "      <th>sum_sq</th>\n",
       "      <th>mean_sq</th>\n",
       "      <th>F</th>\n",
       "      <th>PR(&gt;F)</th>\n",
       "    </tr>\n",
       "  </thead>\n",
       "  <tbody>\n",
       "    <tr>\n",
       "      <th>C(Diet)</th>\n",
       "      <td>2.0</td>\n",
       "      <td>3.446000</td>\n",
       "      <td>1.723000</td>\n",
       "      <td>93.135135</td>\n",
       "      <td>4.888779e-12</td>\n",
       "    </tr>\n",
       "    <tr>\n",
       "      <th>C(Exercise)</th>\n",
       "      <td>1.0</td>\n",
       "      <td>3.333333</td>\n",
       "      <td>3.333333</td>\n",
       "      <td>180.180180</td>\n",
       "      <td>1.187511e-12</td>\n",
       "    </tr>\n",
       "    <tr>\n",
       "      <th>C(Diet):C(Exercise)</th>\n",
       "      <td>2.0</td>\n",
       "      <td>0.116667</td>\n",
       "      <td>0.058333</td>\n",
       "      <td>3.153153</td>\n",
       "      <td>6.083294e-02</td>\n",
       "    </tr>\n",
       "    <tr>\n",
       "      <th>Residual</th>\n",
       "      <td>24.0</td>\n",
       "      <td>0.444000</td>\n",
       "      <td>0.018500</td>\n",
       "      <td>NaN</td>\n",
       "      <td>NaN</td>\n",
       "    </tr>\n",
       "  </tbody>\n",
       "</table>\n",
       "</div>"
      ],
      "text/plain": [
       "                       df    sum_sq   mean_sq           F        PR(>F)\n",
       "C(Diet)               2.0  3.446000  1.723000   93.135135  4.888779e-12\n",
       "C(Exercise)           1.0  3.333333  3.333333  180.180180  1.187511e-12\n",
       "C(Diet):C(Exercise)   2.0  0.116667  0.058333    3.153153  6.083294e-02\n",
       "Residual             24.0  0.444000  0.018500         NaN           NaN"
      ]
     },
     "execution_count": 34,
     "metadata": {},
     "output_type": "execute_result"
    }
   ],
   "source": [
    "model = ols('WeightLoss ~ C(Diet) * C(Exercise)', data=df).fit()\n",
    "anova_table = sm.stats.anova_lm(model)\n",
    "anova_table"
   ]
  },
  {
   "cell_type": "code",
   "execution_count": 40,
   "id": "7e8415c5-f0f5-42b6-90ed-fd87e7a2bad3",
   "metadata": {},
   "outputs": [
    {
     "name": "stdout",
     "output_type": "stream",
     "text": [
      "     Multiple Comparison of Means - Tukey HSD, FWER=0.05      \n",
      "==============================================================\n",
      "   group1      group2   meandiff p-adj   lower   upper  reject\n",
      "--------------------------------------------------------------\n",
      "   Balanced HighProtein     0.83 0.0001  0.4089  1.2511   True\n",
      "   Balanced     LowCarb      0.4  0.065 -0.0211  0.8211  False\n",
      "HighProtein     LowCarb    -0.43 0.0446 -0.8511 -0.0089   True\n",
      "--------------------------------------------------------------\n"
     ]
    }
   ],
   "source": [
    "tukey = pairwise_tukeyhsd(endog=df['WeightLoss'], groups=df['Diet'], alpha=0.05)\n",
    "print(tukey)"
   ]
  },
  {
   "cell_type": "code",
   "execution_count": 39,
   "id": "b92de104-e9a2-45d9-a941-9ae2765f66a9",
   "metadata": {},
   "outputs": [
    {
     "name": "stdout",
     "output_type": "stream",
     "text": [
      "Multiple Comparison of Means - Tukey HSD, FWER=0.05\n",
      "===================================================\n",
      "group1 group2 meandiff p-adj  lower   upper  reject\n",
      "---------------------------------------------------\n",
      "  High    Low  -0.6667   0.0 -0.9496 -0.3837   True\n",
      "---------------------------------------------------\n"
     ]
    }
   ],
   "source": [
    "tukey = pairwise_tukeyhsd(endog=df['WeightLoss'], groups=df['Exercise'], alpha=0.05)\n",
    "print(tukey)"
   ]
  }
 ],
 "metadata": {
  "kernelspec": {
   "display_name": "Python 3 (ipykernel)",
   "language": "python",
   "name": "python3"
  },
  "language_info": {
   "codemirror_mode": {
    "name": "ipython",
    "version": 3
   },
   "file_extension": ".py",
   "mimetype": "text/x-python",
   "name": "python",
   "nbconvert_exporter": "python",
   "pygments_lexer": "ipython3",
   "version": "3.12.7"
  }
 },
 "nbformat": 4,
 "nbformat_minor": 5
}
