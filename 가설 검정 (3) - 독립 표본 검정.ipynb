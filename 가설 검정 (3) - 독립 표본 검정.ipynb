{
 "cells": [
  {
   "cell_type": "markdown",
   "id": "74ab2871-f362-4ec0-b835-4b9d013eef54",
   "metadata": {},
   "source": [
    "# 독립 표본 검정\n",
    "독립 표본 검정은 서로 독립적인 두 집단(예: 남성과 여성, 두 지역의 주민 등)의 평균이나 비율이 통계적으로 유의미하게 다른지를 판단하기 위한 방법입니다. 주로 독립표본 t-검정이 사용되며, 두 집단의 평균을 비교할 때, 각 집단의 데이터가 정규분포를 따르고 분산이 동일하다는 가정을 전제로 합니다. 만약 분산이 다르다면 Welch의 t-검정(Welch's t-test)을 사용하게 됩니다.\n",
    "\n",
    "* 정규성 검정: 각 집단의 데이터가 정규분포를 따르는지 확인합니다. 대표적으로 Shapiro-Wilk 검정을 사용합니다.\n",
    "* 분산의 동질성 검정: 두 집단의 분산이 동일한지 확인합니다. Levene 검정이나 Bartlett 검정을 사용할 수 있습니다."
   ]
  },
  {
   "cell_type": "code",
   "execution_count": 9,
   "id": "f1ec05a9-2eaf-42a3-8a3c-f7726af1a0bc",
   "metadata": {},
   "outputs": [],
   "source": [
    "# 귀무가설: 반별 수학 평균 점수는 같다.\n",
    "# 대립가설: 반별 수학 평균 점수는 다르다.\n",
    "\n",
    "class1 = [85, 90, 92, 88, 86, 89, 83, 87]\n",
    "class2 = [80, 82, 88, 85, 84]"
   ]
  },
  {
   "cell_type": "code",
   "execution_count": 12,
   "id": "7b9bb5be-5a8c-4235-ac6e-cba373c033d5",
   "metadata": {},
   "outputs": [
    {
     "data": {
      "image/png": "[encoded data removed]",
      "text/plain": [
       "<Figure size 1000x400 with 1 Axes>"
      ]
     },
     "metadata": {},
     "output_type": "display_data"
    }
   ],
   "source": [
    "import matplotlib.pyplot as plt\n",
    "import koreanize_matplotlib\n",
    "\n",
    "# 결과 시각화\n",
    "plt.figure(figsize=(10, 4))\n",
    "plt.subplot(1, 2, 1)\n",
    "plt.hist(class1, bins='auto', alpha=0.7, label='Class 1', edgecolor='black')\n",
    "plt.hist(class2, bins='auto', alpha=0.7, label='Class 2', edgecolor='black')\n",
    "plt.title(\"그룹별 분포\")\n",
    "plt.xlabel(\"측정값\")\n",
    "plt.ylabel(\"빈도\")\n",
    "plt.legend()\n",
    "plt.show()"
   ]
  },
  {
   "cell_type": "code",
   "execution_count": 13,
   "id": "5d9a3c30-dfab-4bc2-83f1-ca36a7167686",
   "metadata": {},
   "outputs": [
    {
     "name": "stdout",
     "output_type": "stream",
     "text": [
      "그룹1 - Shapiro-Wilk 검정 통계량: 0.9981893537736595 p-값: 0.999986994137081\n",
      "그룹2 - Shapiro-Wilk 검정 통계량: 0.9917398436295009 p-값: 0.9854182266624983\n"
     ]
    }
   ],
   "source": [
    "# 정규성 검정 (Shapiro-Wilk 검정) // 정규성을 따른다고 볼 수 있다.\n",
    "stat1, p1 = stats.shapiro(class1)\n",
    "stat2, p2 = stats.shapiro(class2)\n",
    "print(\"그룹1 - Shapiro-Wilk 검정 통계량:\", stat1, \"p-값:\", p1)\n",
    "print(\"그룹2 - Shapiro-Wilk 검정 통계량:\", stat2, \"p-값:\", p2)"
   ]
  },
  {
   "cell_type": "code",
   "execution_count": 15,
   "id": "3b56cfa0-6df3-4efe-8122-fc19ec7a627a",
   "metadata": {},
   "outputs": [
    {
     "name": "stdout",
     "output_type": "stream",
     "text": [
      "Levene 검정 결과 - 통계량: 0.0027925869510027727 p-값: 0.958802951766629\n"
     ]
    }
   ],
   "source": [
    "# 분산의 동질성 검정 (Levene 검정) // 두 그룹의 분산이 동일하다고 볼 수 있다.\n",
    "stat_levene, p_levene = stats.levene(class1, class2)\n",
    "print(\"Levene 검정 결과 - 통계량:\", stat_levene, \"p-값:\", p_levene)"
   ]
  },
  {
   "cell_type": "code",
   "execution_count": 18,
   "id": "3617edc7-d3e8-4cfa-83a2-8772a0316c00",
   "metadata": {},
   "outputs": [
    {
     "name": "stdout",
     "output_type": "stream",
     "text": [
      "T-통계량: 2.2108140580092237\n",
      "P-값: 0.04914857789252186\n"
     ]
    }
   ],
   "source": [
    "# 독립표본 t-검정 수행\n",
    "# 분산이 동일하면 equal_var=True, 아니라면 equal_var=False (Welch의 t-검정)\n",
    "equal_var = True if p_levene > 0.05 else False\n",
    "t_statistic, p_value = stats.ttest_ind(class1, class2, equal_var=equal_var)\n",
    "print(\"T-통계량:\", t_statistic)\n",
    "print(\"P-값:\", p_value)\n",
    "\n",
    "# 대립가설 채택!"
   ]
  },
  {
   "cell_type": "code",
   "execution_count": 19,
   "id": "d511d50b-bf90-4ad2-a91f-46b4a774b0e6",
   "metadata": {},
   "outputs": [
    {
     "data": {
      "text/plain": [
       "TtestResult(statistic=2.2108140580092237, pvalue=0.9754257110537391, df=11.0)"
      ]
     },
     "execution_count": 19,
     "metadata": {},
     "output_type": "execute_result"
    }
   ],
   "source": [
    "# 귀무가설: 반별 수학 점수 평균 점수는 같다.\n",
    "# 대립가설: 2반 수학 평균 점수가 더 높다.\n",
    "stats.ttest_ind(class1, class2, equal_var=equal_var, alternative='less') # 귀무가설을 기각할 수가 없다."
   ]
  },
  {
   "cell_type": "code",
   "execution_count": 20,
   "id": "82eef701-27fa-474e-b275-63bb0c06d7d5",
   "metadata": {},
   "outputs": [
    {
     "data": {
      "text/plain": [
       "TtestResult(statistic=2.2108140580092237, pvalue=0.02457428894626093, df=11.0)"
      ]
     },
     "execution_count": 20,
     "metadata": {},
     "output_type": "execute_result"
    }
   ],
   "source": [
    "# 귀무가설: 반별 수학 점수 평균 점수는 같다.\n",
    "# 대립가설: 1반 수학 평균 점수가 더 높다.\n",
    "stats.ttest_ind(class1, class2, equal_var=equal_var, alternative='greater') # 1반 수학 평균 점수가 더 높다라고 추론!"
   ]
  },
  {
   "cell_type": "markdown",
   "id": "1cdaf101-3eb3-4fd5-a08a-f381e8b4b18e",
   "metadata": {},
   "source": [
    "* 만약 정규성을 하나라도 따르지 않았다면?"
   ]
  },
  {
   "cell_type": "code",
   "execution_count": 22,
   "id": "ed43212b-2e94-4f8d-b31d-d1776fde263c",
   "metadata": {},
   "outputs": [
    {
     "name": "stdout",
     "output_type": "stream",
     "text": [
      "U-통계량: 33.0\n",
      "P-값: 0.06652637566016167\n"
     ]
    }
   ],
   "source": [
    "# Mann-Whitney U 검정: 데이터가 정규분포를 따르지 않더라도 사용할 수 있으며\n",
    "# 원시 데이터 대신 각 데이터의 순위를 비교하여 검정을 수행 즉, 두 집단의 중앙값이 차이가 있는지 판단\n",
    "# 정규성이 만족되지 않는다고 가정하고, 비모수 검정 수행\n",
    "u_statistic, p_value_nonparam = stats.mannwhitneyu(class1, class2)\n",
    "print(\"U-통계량:\", u_statistic)\n",
    "print(\"P-값:\", p_value_nonparam)"
   ]
  },
  {
   "cell_type": "markdown",
   "id": "11ee52f8-833d-4e14-b43d-9f6cfc967c3b",
   "metadata": {},
   "source": [
    "## 연습문제\n",
    "1. 1반과 2반의 평균 점수 차이가 있는지 유의 수준 0.05 하에서 가설 검정하시오.\n",
    "\n",
    "* 귀무가설: 반별 수학 평균 점수는 같다.\n",
    "* 대립가설: 2반 수학 평균 점수가 더 높다."
   ]
  },
  {
   "cell_type": "code",
   "execution_count": 38,
   "id": "91b960ce-5485-4ca6-9dfd-cd949b9441e9",
   "metadata": {},
   "outputs": [],
   "source": [
    "class1 = [85, 90, 92, 88, 86, 89, 83, 87]\n",
    "class2 = [80, 82, 88, 85, 84]"
   ]
  },
  {
   "cell_type": "code",
   "execution_count": 39,
   "id": "5015f2a3-f7b5-4ec7-adf0-172183ec7dca",
   "metadata": {},
   "outputs": [
    {
     "data": {
      "image/png": "[encoded data removed]",
      "text/plain": [
       "<Figure size 640x480 with 1 Axes>"
      ]
     },
     "metadata": {},
     "output_type": "display_data"
    }
   ],
   "source": [
    "plt.hist(class1, alpha = 0.5)\n",
    "plt.hist(class2, alpha = 0.5)\n",
    "plt.show()"
   ]
  },
  {
   "cell_type": "code",
   "execution_count": null,
   "id": "a0f88efb-4b1c-4bdd-8304-e77adbe4bb7e",
   "metadata": {},
   "outputs": [],
   "source": []
  },
  {
   "cell_type": "code",
   "execution_count": 40,
   "id": "eeb17e7b-fb8d-4e43-b44d-2fce57a1c036",
   "metadata": {},
   "outputs": [
    {
     "name": "stdout",
     "output_type": "stream",
     "text": [
      "ShapiroResult(statistic=0.9981893537736595, pvalue=0.999986994137081)\n",
      "ShapiroResult(statistic=0.9917398436295009, pvalue=0.9854182266624983)\n"
     ]
    }
   ],
   "source": [
    "print(stats.shapiro(class1))\n",
    "print(stats.shapiro(class2))"
   ]
  },
  {
   "cell_type": "code",
   "execution_count": 28,
   "id": "d2101b97-e213-4f02-95dc-69ee40d8df96",
   "metadata": {},
   "outputs": [
    {
     "name": "stdout",
     "output_type": "stream",
     "text": [
      "LeveneResult(statistic=0.0027925869510027727, pvalue=0.958802951766629)\n"
     ]
    }
   ],
   "source": [
    "print(stats.levene(class1, class2))"
   ]
  },
  {
   "cell_type": "code",
   "execution_count": 29,
   "id": "339f7038-d262-4888-9a24-d42ce6fba3c5",
   "metadata": {},
   "outputs": [
    {
     "data": {
      "text/plain": [
       "TtestResult(statistic=2.2108140580092237, pvalue=0.9754257110537391, df=11.0)"
      ]
     },
     "execution_count": 29,
     "metadata": {},
     "output_type": "execute_result"
    }
   ],
   "source": [
    "stats.ttest_ind(class1, class2, alternative='less', equal_var=True)"
   ]
  },
  {
   "cell_type": "markdown",
   "id": "8eb86cae-d23a-4001-838b-eda5ddc9d379",
   "metadata": {},
   "source": [
    "2. 1반과 2반의 평균 점수 차이가 있는지 유의 수준 0.05 하에서 가설 검정하시오.\n",
    "* 귀무가설: 반별 수학 평균 점수는 같다.\n",
    "* 대립가설: 2반 수학 평균 점수가 더 높다."
   ]
  },
  {
   "cell_type": "code",
   "execution_count": 41,
   "id": "96d79da4-94e6-4246-a4c6-d928db82a5a5",
   "metadata": {},
   "outputs": [],
   "source": [
    "class1 = [85, 90, 92, 88, 86, 89, 83, 87]\n",
    "class2 = [80, 82, 88, 85, 130]"
   ]
  },
  {
   "cell_type": "code",
   "execution_count": 42,
   "id": "9753699b-e964-4814-8f49-3bca94620d66",
   "metadata": {},
   "outputs": [
    {
     "data": {
      "image/png": "[encoded data removed]",
      "text/plain": [
       "<Figure size 640x480 with 1 Axes>"
      ]
     },
     "metadata": {},
     "output_type": "display_data"
    }
   ],
   "source": [
    "plt.hist(class1, alpha = 0.5)\n",
    "plt.hist(class2, alpha = 0.5)\n",
    "plt.show()"
   ]
  },
  {
   "cell_type": "code",
   "execution_count": 43,
   "id": "3c117137-fb6b-48c3-b767-19ec8ac6cfbd",
   "metadata": {},
   "outputs": [
    {
     "name": "stdout",
     "output_type": "stream",
     "text": [
      "ShapiroResult(statistic=0.9981893537736595, pvalue=0.999986994137081)\n",
      "ShapiroResult(statistic=0.6880497349322277, pvalue=0.007151570728885509)\n"
     ]
    }
   ],
   "source": [
    "print(stats.shapiro(class1))\n",
    "print(stats.shapiro(class2))"
   ]
  },
  {
   "cell_type": "code",
   "execution_count": 44,
   "id": "89cd5b30-bf28-44e2-9840-1a2856ec75e3",
   "metadata": {},
   "outputs": [
    {
     "data": {
      "text/plain": [
       "MannwhitneyuResult(statistic=26.0, pvalue=0.8299904236851448)"
      ]
     },
     "execution_count": 44,
     "metadata": {},
     "output_type": "execute_result"
    }
   ],
   "source": [
    "stats.mannwhitneyu(class1, class2, alternative='less')"
   ]
  },
  {
   "cell_type": "markdown",
   "id": "4506a87b-de86-43ca-a5bd-b363b352eb16",
   "metadata": {},
   "source": [
    "3. 한 연구자가 특정 튜터링 프로그램이 학생들의 시험 성적에 미치는 영향을 조사하고자 하였습니다. 이를 위해 두 개의 독립 집단을 선정하였습니다. 두 그룹의 평균 시험 점수에 차이가 있는지 검정하시오. (유의수준 0.05)\n",
    "\n",
    "* 그룹 A: 튜터링 프로그램에 참여한 학생들의 시험 점수\n",
    "* 그룹 B: 튜터링 프로그램에 참여하지 않은 학생들의 시험 점수"
   ]
  },
  {
   "cell_type": "code",
   "execution_count": 47,
   "id": "6bebdea2-32f6-4290-93e5-f1e077e9d7cd",
   "metadata": {},
   "outputs": [
    {
     "data": {
      "image/png": "[encoded data removed]",
      "text/plain": [
       "<Figure size 640x480 with 1 Axes>"
      ]
     },
     "metadata": {},
     "output_type": "display_data"
    }
   ],
   "source": [
    "A = [78, 85, 82, 88, 75, 80, 79, 83, 81, 87]\n",
    "B = [70, 72, 68, 74, 69, 71, 73, 70, 68, 72]\n",
    "\n",
    "plt.hist(A, alpha = 0.5)\n",
    "plt.hist(B, alpha = 0.5)\n",
    "plt.show()"
   ]
  },
  {
   "cell_type": "code",
   "execution_count": 48,
   "id": "1ea6e268-de0f-4925-8a8f-35ccb2846f3e",
   "metadata": {},
   "outputs": [
    {
     "name": "stdout",
     "output_type": "stream",
     "text": [
      "ShapiroResult(statistic=0.9808738685761099, pvalue=0.9696722802646456)\n",
      "ShapiroResult(statistic=0.9498823422157764, pvalue=0.6671086821934071)\n"
     ]
    }
   ],
   "source": [
    "print(stats.shapiro(A))\n",
    "print(stats.shapiro(B))"
   ]
  },
  {
   "cell_type": "code",
   "execution_count": 49,
   "id": "b7b6294a-7f8f-48b2-9a0a-31d51b768b58",
   "metadata": {},
   "outputs": [
    {
     "name": "stdout",
     "output_type": "stream",
     "text": [
      "LeveneResult(statistic=3.509532062391682, pvalue=0.07734786417119568)\n"
     ]
    }
   ],
   "source": [
    "print(stats.levene(A, B))"
   ]
  },
  {
   "cell_type": "code",
   "execution_count": 50,
   "id": "1b613305-4983-4053-bf98-6aaece5b8084",
   "metadata": {},
   "outputs": [
    {
     "data": {
      "text/plain": [
       "TtestResult(statistic=7.686207367576637, pvalue=4.3123377367616994e-07, df=18.0)"
      ]
     },
     "execution_count": 50,
     "metadata": {},
     "output_type": "execute_result"
    }
   ],
   "source": [
    "stats.ttest_ind(A, B, equal_var=True)"
   ]
  }
 ],
 "metadata": {
  "kernelspec": {
   "display_name": "Python 3 (ipykernel)",
   "language": "python",
   "name": "python3"
  },
  "language_info": {
   "codemirror_mode": {
    "name": "ipython",
    "version": 3
   },
   "file_extension": ".py",
   "mimetype": "text/x-python",
   "name": "python",
   "nbconvert_exporter": "python",
   "pygments_lexer": "ipython3",
   "version": "3.12.7"
  }
 },
 "nbformat": 4,
 "nbformat_minor": 5
}
