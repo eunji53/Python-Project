{
 "cells": [
  {
   "cell_type": "markdown",
   "id": "e4d69495-f290-48ff-98f1-3e90d31529b6",
   "metadata": {},
   "source": [
    "# 일원 분산 분석(One-way ANOVA)\n",
    "일원 분산 분석(One-way ANOVA)은 세 개 이상의 독립된 그룹 간의 평균 차이가 통계적으로 유의미한지를 검정하는 방법입니다. 이 방법은 한 개의 범주형 독립변수(요인)에 따른 여러 집단의 종속변수 평균을 비교할 때 사용됩니다.\n",
    "\n",
    "* 정규성: 각 그룹의 데이터가 정규분포를 따른다고 가정합니다.\n",
    "* 등분산성 (Homogeneity of Variance): 각 그룹의 분산이 동일하다고 가정합니다.\n",
    "* 독립성: 각 관측치는 서로 독립적이어야 합니다."
   ]
  },
  {
   "cell_type": "code",
   "execution_count": 2,
   "id": "59bc444f-e47f-45df-a9e6-ed6750c1c787",
   "metadata": {},
   "outputs": [
    {
     "data": {
      "text/html": [
       "<div>\n",
       "<style scoped>\n",
       "    .dataframe tbody tr th:only-of-type {\n",
       "        vertical-align: middle;\n",
       "    }\n",
       "\n",
       "    .dataframe tbody tr th {\n",
       "        vertical-align: top;\n",
       "    }\n",
       "\n",
       "    .dataframe thead th {\n",
       "        text-align: right;\n",
       "    }\n",
       "</style>\n",
       "<table border=\"1\" class=\"dataframe\">\n",
       "  <thead>\n",
       "    <tr style=\"text-align: right;\">\n",
       "      <th></th>\n",
       "      <th>A</th>\n",
       "      <th>B</th>\n",
       "      <th>C</th>\n",
       "      <th>D</th>\n",
       "    </tr>\n",
       "  </thead>\n",
       "  <tbody>\n",
       "    <tr>\n",
       "      <th>0</th>\n",
       "      <td>10.5</td>\n",
       "      <td>11.9</td>\n",
       "      <td>11.2</td>\n",
       "      <td>9.8</td>\n",
       "    </tr>\n",
       "    <tr>\n",
       "      <th>1</th>\n",
       "      <td>11.3</td>\n",
       "      <td>12.4</td>\n",
       "      <td>11.7</td>\n",
       "      <td>9.4</td>\n",
       "    </tr>\n",
       "    <tr>\n",
       "      <th>2</th>\n",
       "      <td>10.8</td>\n",
       "      <td>12.1</td>\n",
       "      <td>11.6</td>\n",
       "      <td>9.1</td>\n",
       "    </tr>\n",
       "    <tr>\n",
       "      <th>3</th>\n",
       "      <td>9.6</td>\n",
       "      <td>13.2</td>\n",
       "      <td>10.9</td>\n",
       "      <td>9.5</td>\n",
       "    </tr>\n",
       "    <tr>\n",
       "      <th>4</th>\n",
       "      <td>11.1</td>\n",
       "      <td>12.5</td>\n",
       "      <td>11.3</td>\n",
       "      <td>9.6</td>\n",
       "    </tr>\n",
       "  </tbody>\n",
       "</table>\n",
       "</div>"
      ],
      "text/plain": [
       "      A     B     C    D\n",
       "0  10.5  11.9  11.2  9.8\n",
       "1  11.3  12.4  11.7  9.4\n",
       "2  10.8  12.1  11.6  9.1\n",
       "3   9.6  13.2  10.9  9.5\n",
       "4  11.1  12.5  11.3  9.6"
      ]
     },
     "execution_count": 2,
     "metadata": {},
     "output_type": "execute_result"
    }
   ],
   "source": [
    "# 4종류의 비료를 사용한 식물의 성장에 대한 실험\n",
    "# 식물 40개를 무작위로 10개씩 나누고, 화학 비료 A,B,C,D 를 일정 기간 사용한 후 성장량을 측정\n",
    "# 성장의 차이가 있는지 유의수준 0.05 하에서 검정.\n",
    "\n",
    "import pandas as pd\n",
    "\n",
    "# 귀무가설: 네 가지 비료는 효과가 동일하다.\n",
    "# 대립가설: 비료의 효과에는 차이가 있다. (적어도 두 가지 비료의 효과에는 차이가 있다.)\n",
    "\n",
    "df = pd.DataFrame({\n",
    "    'A': [10.5, 11.3, 10.8, 9.6, 11.1, 10.2, 10.9, 11.4, 10.5, 10.3],\n",
    "    'B': [11.9, 12.4, 12.1, 13.2, 12.5, 11.8, 12.2, 12.9, 12.4, 12.3],\n",
    "    'C': [11.2, 11.7, 11.6, 10.9, 11.3, 11.1, 10.8, 11.5, 11.4, 11.0],\n",
    "    'D': [9.8, 9.4, 9.1, 9.5, 9.6, 9.9, 9.2, 9.7, 9.3, 9.4]\n",
    "})\n",
    "\n",
    "df.head()"
   ]
  },
  {
   "cell_type": "code",
   "execution_count": 4,
   "id": "64e10881-61e2-4a7c-bad1-e521c752a9e4",
   "metadata": {},
   "outputs": [
    {
     "name": "stdout",
     "output_type": "stream",
     "text": [
      "=== 정규성 검정 ===\n",
      "ShapiroResult(statistic=0.9649054066073813, pvalue=0.8400161543468654)\n",
      "ShapiroResult(statistic=0.9468040874196029, pvalue=0.6308700692815115)\n",
      "ShapiroResult(statistic=0.9701646110856055, pvalue=0.892367306190296)\n",
      "ShapiroResult(statistic=0.9752339025839644, pvalue=0.9346854448707653)\n"
     ]
    }
   ],
   "source": [
    "import scipy.stats as stats\n",
    "\n",
    "print(\"=== 정규성 검정 ===\")\n",
    "print(stats.shapiro(df['A']))\n",
    "print(stats.shapiro(df['B']))\n",
    "print(stats.shapiro(df['C']))\n",
    "print(stats.shapiro(df['D']))"
   ]
  },
  {
   "cell_type": "code",
   "execution_count": 5,
   "id": "75bb6604-5570-4cc7-ae41-0edfa96360a0",
   "metadata": {},
   "outputs": [
    {
     "name": "stdout",
     "output_type": "stream",
     "text": [
      "=== 등분산 검정 ===\n",
      "LeveneResult(statistic=1.9355354288758708, pvalue=0.14127835331346628)\n"
     ]
    }
   ],
   "source": [
    "print(\"=== 등분산 검정 ===\")\n",
    "print(stats.levene(df['A'], df['B'], df['C'], df['D']))"
   ]
  },
  {
   "cell_type": "code",
   "execution_count": 6,
   "id": "4c7f3536-9631-4428-b235-ff17ebcea5f7",
   "metadata": {},
   "outputs": [
    {
     "name": "stdout",
     "output_type": "stream",
     "text": [
      "=== 일원 분산 분석 ===\n",
      "F_onewayResult(statistic=89.12613851177174, pvalue=1.001838152252373e-16)\n"
     ]
    }
   ],
   "source": [
    "print(\"=== 일원 분산 분석 ===\")\n",
    "print(stats.f_oneway(df['A'], df['B'], df['C'], df['D'])) # 차이가 있다고 추론!\n",
    "\n",
    "# 그룹 간의 평균 차이가 그룹 내의 변동에 비해 89.126배 정도 크다는 것을 의미합니다. \n",
    "# 이 값과 함께 p-값이 매우 작게 나왔으므로(1.001838152252373e-16), \n",
    "# 이는 귀무가설(모든 그룹의 평균이 같다)을 기각할 충분한 증거가 있다는 것을 의미"
   ]
  },
  {
   "cell_type": "code",
   "execution_count": 7,
   "id": "c81e5865-855d-4736-9314-a648128561df",
   "metadata": {},
   "outputs": [
    {
     "data": {
      "text/html": [
       "<div>\n",
       "<style scoped>\n",
       "    .dataframe tbody tr th:only-of-type {\n",
       "        vertical-align: middle;\n",
       "    }\n",
       "\n",
       "    .dataframe tbody tr th {\n",
       "        vertical-align: top;\n",
       "    }\n",
       "\n",
       "    .dataframe thead th {\n",
       "        text-align: right;\n",
       "    }\n",
       "</style>\n",
       "<table border=\"1\" class=\"dataframe\">\n",
       "  <thead>\n",
       "    <tr style=\"text-align: right;\">\n",
       "      <th></th>\n",
       "      <th>variable</th>\n",
       "      <th>value</th>\n",
       "    </tr>\n",
       "  </thead>\n",
       "  <tbody>\n",
       "    <tr>\n",
       "      <th>0</th>\n",
       "      <td>A</td>\n",
       "      <td>10.5</td>\n",
       "    </tr>\n",
       "    <tr>\n",
       "      <th>1</th>\n",
       "      <td>A</td>\n",
       "      <td>11.3</td>\n",
       "    </tr>\n",
       "    <tr>\n",
       "      <th>2</th>\n",
       "      <td>A</td>\n",
       "      <td>10.8</td>\n",
       "    </tr>\n",
       "    <tr>\n",
       "      <th>3</th>\n",
       "      <td>A</td>\n",
       "      <td>9.6</td>\n",
       "    </tr>\n",
       "    <tr>\n",
       "      <th>4</th>\n",
       "      <td>A</td>\n",
       "      <td>11.1</td>\n",
       "    </tr>\n",
       "  </tbody>\n",
       "</table>\n",
       "</div>"
      ],
      "text/plain": [
       "  variable  value\n",
       "0        A   10.5\n",
       "1        A   11.3\n",
       "2        A   10.8\n",
       "3        A    9.6\n",
       "4        A   11.1"
      ]
     },
     "execution_count": 7,
     "metadata": {},
     "output_type": "execute_result"
    }
   ],
   "source": [
    "df2 = pd.melt(df)\n",
    "df2.head()"
   ]
  },
  {
   "cell_type": "code",
   "execution_count": 10,
   "id": "c50b8ccd-33ba-4b3c-87a7-8c4254caccdb",
   "metadata": {},
   "outputs": [
    {
     "data": {
      "text/html": [
       "<div>\n",
       "<style scoped>\n",
       "    .dataframe tbody tr th:only-of-type {\n",
       "        vertical-align: middle;\n",
       "    }\n",
       "\n",
       "    .dataframe tbody tr th {\n",
       "        vertical-align: top;\n",
       "    }\n",
       "\n",
       "    .dataframe thead th {\n",
       "        text-align: right;\n",
       "    }\n",
       "</style>\n",
       "<table border=\"1\" class=\"dataframe\">\n",
       "  <thead>\n",
       "    <tr style=\"text-align: right;\">\n",
       "      <th></th>\n",
       "      <th>df</th>\n",
       "      <th>sum_sq</th>\n",
       "      <th>mean_sq</th>\n",
       "      <th>F</th>\n",
       "      <th>PR(&gt;F)</th>\n",
       "    </tr>\n",
       "  </thead>\n",
       "  <tbody>\n",
       "    <tr>\n",
       "      <th>C(variable)</th>\n",
       "      <td>3.0</td>\n",
       "      <td>43.21875</td>\n",
       "      <td>14.406250</td>\n",
       "      <td>89.126139</td>\n",
       "      <td>1.001838e-16</td>\n",
       "    </tr>\n",
       "    <tr>\n",
       "      <th>Residual</th>\n",
       "      <td>36.0</td>\n",
       "      <td>5.81900</td>\n",
       "      <td>0.161639</td>\n",
       "      <td>NaN</td>\n",
       "      <td>NaN</td>\n",
       "    </tr>\n",
       "  </tbody>\n",
       "</table>\n",
       "</div>"
      ],
      "text/plain": [
       "               df    sum_sq    mean_sq          F        PR(>F)\n",
       "C(variable)   3.0  43.21875  14.406250  89.126139  1.001838e-16\n",
       "Residual     36.0   5.81900   0.161639        NaN           NaN"
      ]
     },
     "execution_count": 10,
     "metadata": {},
     "output_type": "execute_result"
    }
   ],
   "source": [
    "from statsmodels.formula.api import ols\n",
    "import statsmodels.api as sm\n",
    "\n",
    "# 3. 일원 분산 분석 (One-way ANOVA)\n",
    "model = ols('value ~ C(variable)', data=df2).fit()\n",
    "\n",
    "anova_table = sm.stats.anova_lm(model)\n",
    "anova_table"
   ]
  },
  {
   "cell_type": "code",
   "execution_count": 22,
   "id": "bdbf02b2-6733-40ad-900e-580d60bbd9e8",
   "metadata": {},
   "outputs": [
    {
     "name": "stdout",
     "output_type": "stream",
     "text": [
      "Tukey HSD 결과\n",
      "Multiple Comparison of Means - Tukey HSD, FWER=0.05 \n",
      "====================================================\n",
      "group1 group2 meandiff p-adj   lower   upper  reject\n",
      "----------------------------------------------------\n",
      "     A      B     1.71    0.0  1.2258  2.1942   True\n",
      "     A      C     0.59 0.0118  0.1058  1.0742   True\n",
      "     A      D    -1.17    0.0 -1.6542 -0.6858   True\n",
      "     B      C    -1.12    0.0 -1.6042 -0.6358   True\n",
      "     B      D    -2.88    0.0 -3.3642 -2.3958   True\n",
      "     C      D    -1.76    0.0 -2.2442 -1.2758   True\n",
      "----------------------------------------------------\n"
     ]
    }
   ],
   "source": [
    "from statsmodels.stats.multicomp import pairwise_tukeyhsd\n",
    "import matplotlib.pyplot as plt\n",
    "\n",
    "# ANOVA 결과가 유의미하면 사후 분석(Tukey HSD) 진행\n",
    "tukey = pairwise_tukeyhsd(endog=df2['value'], groups=df2['variable'], alpha=0.05)\n",
    "print(\"Tukey HSD 결과\")\n",
    "print(tukey)"
   ]
  },
  {
   "cell_type": "code",
   "execution_count": 21,
   "id": "5e8d5967-2c9a-4d28-aae1-217c8d880bf0",
   "metadata": {},
   "outputs": [
    {
     "data": {
      "image/png": "[encoded data removed]",
      "text/plain": [
       "<Figure size 1000x600 with 1 Axes>"
      ]
     },
     "metadata": {},
     "output_type": "display_data"
    }
   ],
   "source": [
    "# Tukey HSD 결과 시각화\n",
    "tukey.plot_simultaneous()\n",
    "plt.title(\"Tukey HSD Test\")\n",
    "plt.xlabel(\"Mean difference\")\n",
    "plt.show()"
   ]
  },
  {
   "cell_type": "markdown",
   "id": "8b09c7cf-5136-427c-b1d0-7e864a81b482",
   "metadata": {},
   "source": [
    "* 만약 정규성을 따르지 않으면?"
   ]
  },
  {
   "cell_type": "code",
   "execution_count": 11,
   "id": "8858742c-0722-42d2-a54a-0ab92741cee7",
   "metadata": {},
   "outputs": [
    {
     "data": {
      "text/plain": [
       "(33.91729415078395, 2.0624565034628142e-07)"
      ]
     },
     "execution_count": 11,
     "metadata": {},
     "output_type": "execute_result"
    }
   ],
   "source": [
    "# 정규성을 만족하지 않는다고 판단되면, Kruskal-Wallis 검정 수행(세 개 이상의 독립 그룹 간 중앙값 차이가 통계적으로 유의미한지를 검정)\n",
    "kw_statistic, kw_p_value = stats.kruskal(df['A'], df['B'], df['C'], df['D'])\n",
    "kw_statistic, kw_p_value"
   ]
  },
  {
   "cell_type": "code",
   "execution_count": 12,
   "id": "1a54a7fa-1d9a-47f3-9a04-5c36c07a758d",
   "metadata": {},
   "outputs": [],
   "source": [
    "# 만약 등분산성을 만족하지 않는다면, 올바른 결과를 기대하기가 어려움."
   ]
  },
  {
   "cell_type": "markdown",
   "id": "b4b68567-a4f5-4ce6-b089-7fca7c962ada",
   "metadata": {},
   "source": [
    "## 연습문제\n",
    "한 연구자가 세 가지 다른 교육 방법(교육 방법 A, 교육 방법 B, 교육 방법 C)이 학생들의 시험 점수에 미치는 영향을 알아보고자 하였습니다. 각 교육 방법을 적용받은 학생들의 시험 점수가 아래와 같이 주어졌다고 가정합니다."
   ]
  },
  {
   "cell_type": "code",
   "execution_count": 23,
   "id": "21ec5adf-cfb3-4706-a147-7ef2b7b95856",
   "metadata": {},
   "outputs": [],
   "source": [
    "A = [70, 72, 68, 74, 69, 73, 70, 71, 72, 70]\n",
    "B = [75, 78, 74, 77, 76, 80, 79, 75, 78, 77]\n",
    "C = [82, 85, 80, 83, 81, 84, 86, 82, 83, 85]"
   ]
  },
  {
   "cell_type": "code",
   "execution_count": 24,
   "id": "fc27f274-c83c-4003-9167-ba0f94052536",
   "metadata": {},
   "outputs": [
    {
     "name": "stdout",
     "output_type": "stream",
     "text": [
      "=== 정규성 검정 ===\n",
      "ShapiroResult(statistic=0.9692121326757147, pvalue=0.8834456534794826)\n",
      "ShapiroResult(statistic=0.9691888544165497, pvalue=0.8832241960495848)\n",
      "ShapiroResult(statistic=0.9691888544165495, pvalue=0.8832241960495825)\n"
     ]
    }
   ],
   "source": [
    "print(\"=== 정규성 검정 ===\")\n",
    "print(stats.shapiro(A))\n",
    "print(stats.shapiro(B))\n",
    "print(stats.shapiro(C))"
   ]
  },
  {
   "cell_type": "code",
   "execution_count": 25,
   "id": "1200cee4-1193-48ac-8aec-db21f567edcc",
   "metadata": {},
   "outputs": [
    {
     "name": "stdout",
     "output_type": "stream",
     "text": [
      "=== 등분산 검정 ===\n",
      "LeveneResult(statistic=0.0, pvalue=1.0)\n"
     ]
    }
   ],
   "source": [
    "print(\"=== 등분산 검정 ===\")\n",
    "print(stats.levene(A,B,C))"
   ]
  },
  {
   "cell_type": "code",
   "execution_count": 26,
   "id": "ec8a8373-cd23-4a48-a9eb-ca946d4b2055",
   "metadata": {},
   "outputs": [
    {
     "name": "stdout",
     "output_type": "stream",
     "text": [
      "=== 일원 분산 분석 ===\n",
      "F_onewayResult(statistic=103.90486039296802, pvalue=2.083261762272435e-13)\n"
     ]
    }
   ],
   "source": [
    "print(\"=== 일원 분산 분석 ===\")\n",
    "print(stats.f_oneway(A,B,C)) # 교육 방법에 차이가 존재한다!"
   ]
  },
  {
   "cell_type": "code",
   "execution_count": 29,
   "id": "b4b3b673-a4bc-4e5f-ac1e-0df218c087b7",
   "metadata": {},
   "outputs": [
    {
     "name": "stdout",
     "output_type": "stream",
     "text": [
      "Tukey HSD 결과\n",
      "Multiple Comparison of Means - Tukey HSD, FWER=0.05\n",
      "===================================================\n",
      "group1 group2 meandiff p-adj  lower   upper  reject\n",
      "---------------------------------------------------\n",
      "     A      B      6.0   0.0  3.9016  8.0984   True\n",
      "     A      C     12.2   0.0 10.1016 14.2984   True\n",
      "     B      C      6.2   0.0  4.1016  8.2984   True\n",
      "---------------------------------------------------\n"
     ]
    }
   ],
   "source": [
    "df = pd.DataFrame({'A' : A, 'B' : B, 'C' : C})\n",
    "df2 = pd.melt(df)\n",
    "\n",
    "tukey = pairwise_tukeyhsd(endog=df2['value'], groups=df2['variable'], alpha=0.05)\n",
    "print(\"Tukey HSD 결과\")\n",
    "print(tukey)"
   ]
  }
 ],
 "metadata": {
  "kernelspec": {
   "display_name": "Python 3 (ipykernel)",
   "language": "python",
   "name": "python3"
  },
  "language_info": {
   "codemirror_mode": {
    "name": "ipython",
    "version": 3
   },
   "file_extension": ".py",
   "mimetype": "text/x-python",
   "name": "python",
   "nbconvert_exporter": "python",
   "pygments_lexer": "ipython3",
   "version": "3.12.7"
  }
 },
 "nbformat": 4,
 "nbformat_minor": 5
}
