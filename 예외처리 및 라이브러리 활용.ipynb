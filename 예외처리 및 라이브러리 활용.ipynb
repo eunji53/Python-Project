{
 "cells": [
  {
   "cell_type": "markdown",
   "id": "68dbb1d7-e765-444d-8a38-ad911bb65967",
   "metadata": {},
   "source": [
    "# 파이썬 예외처리 (Exception Handling)\n",
    "## 예외(Exception)란?\n",
    "* 예외는 프로그램 실행 중 발생하는 오류 상황을 의미합니다.\n",
    "* 대표적인 예로, 0으로 나누는 연산(ZeroDivisionError), 존재하지 않는 파일 열기(FileNotFoundError) 등."
   ]
  },
  {
   "cell_type": "markdown",
   "id": "cf6c0b45-0550-493c-9a28-6db3ef04efca",
   "metadata": {},
   "source": [
    "### 예외 처리 기본 구조: try ~ except\n",
    "1. try 블록에서 예외가 발생할 가능성이 있는 코드를 실행합니다.\n",
    "2. 해당 예외(ZeroDivisionError, ValueError)가 발생하면, except 블록이 순서대로 검사되어 해당하는 except가 실행됩니다.\n",
    "3. 만약 발생한 예외에 해당하는 except가 없다면, 프로그램은 오류를 발생시키고 종료될 수 있습니다."
   ]
  },
  {
   "cell_type": "code",
   "execution_count": 1,
   "id": "b8490c57-be2a-424a-be47-afb778a14d38",
   "metadata": {},
   "outputs": [
    {
     "name": "stdin",
     "output_type": "stream",
     "text": [
      "숫자를 입력하세요:  ㅎ\n"
     ]
    },
    {
     "name": "stdout",
     "output_type": "stream",
     "text": [
      "유효한 숫자가 아닙니다.\n"
     ]
    }
   ],
   "source": [
    "try:\n",
    "    # 오류가 발생할 가능성이 있는 코드\n",
    "    num = int(input(\"숫자를 입력하세요: \"))\n",
    "    result = 10 / num\n",
    "    print(\"결과:\", result)\n",
    "except ZeroDivisionError:\n",
    "    # 예외 발생 시 실행할 코드\n",
    "    print(\"0으로 나눌 수 없습니다.\")\n",
    "except ValueError:\n",
    "    print(\"유효한 숫자가 아닙니다.\")"
   ]
  },
  {
   "cell_type": "markdown",
   "id": "6106ae04-ace0-4d26-aa45-957051d024ef",
   "metadata": {},
   "source": [
    "### try ~ except ~ else ~ finally\n",
    "* 파이썬 예외처리는 좀 더 다양한 구성을 지원합니다. "
   ]
  },
  {
   "cell_type": "code",
   "execution_count": 2,
   "id": "e2b91a59-878e-456c-a33a-8296ab54eea3",
   "metadata": {},
   "outputs": [
    {
     "name": "stdin",
     "output_type": "stream",
     "text": [
      "숫자를 입력하세요:  5\n"
     ]
    },
    {
     "name": "stdout",
     "output_type": "stream",
     "text": [
      "계산 결과: 20.0\n",
      "프로그램을 종료합니다.\n"
     ]
    }
   ],
   "source": [
    "# else: try에서 오류가 하나도 없을 때 실행\n",
    "# finally: 예외 발생 여부와 상관없이 항상 실행 (리소스 정리, 파일 닫기 등)\n",
    "\n",
    "try:\n",
    "    num = int(input(\"숫자를 입력하세요: \"))\n",
    "    result = 100 / num\n",
    "except ZeroDivisionError:\n",
    "    print(\"0으로 나눌 수 없습니다.\")\n",
    "except ValueError:\n",
    "    print(\"숫자가 아닌 값을 입력했습니다.\")\n",
    "else:\n",
    "    # 예외 없이 정상적으로 try 블록이 끝났을 때 실행\n",
    "    print(\"계산 결과:\", result)\n",
    "finally:\n",
    "    # 예외 발생 여부와 관계없이 무조건 실행\n",
    "    print(\"프로그램을 종료합니다.\")"
   ]
  },
  {
   "cell_type": "markdown",
   "id": "69982b53-a9e2-4968-9b21-72a07cb0b095",
   "metadata": {},
   "source": [
    "### raise로 예외 발생시키기\n",
    "* 필요할 때 사용자 정의 상황에서 예외를 발생시킬 수 있습니다."
   ]
  },
  {
   "cell_type": "code",
   "execution_count": 3,
   "id": "8011e7f1-aa1a-4597-982c-307213b70ff9",
   "metadata": {},
   "outputs": [
    {
     "name": "stdout",
     "output_type": "stream",
     "text": [
      "오류 발생! 나이는 음수가 될 수 없습니다.\n"
     ]
    }
   ],
   "source": [
    "# raise ValueError(...)는 인위적으로 예외를 일으키는 구문\n",
    "# except ValueError as e: 형태로 예외 객체를 받아서 메시지를 확인할 수 있습니다.\n",
    "\n",
    "def check_age(age):\n",
    "    if age < 0:\n",
    "        raise ValueError(\"나이는 음수가 될 수 없습니다.\")\n",
    "    print(\"나이는\", age, \"입니다.\")\n",
    "\n",
    "try:\n",
    "    check_age(-5)\n",
    "except ValueError as e:\n",
    "    print(\"오류 발생!\", e)"
   ]
  },
  {
   "cell_type": "markdown",
   "id": "ea5ce71e-c9dd-44ac-8f77-e97fbd0947ef",
   "metadata": {},
   "source": [
    "# 파이썬 라이브러리 활용\n",
    "## 1. 표준 라이브러리(내장 라이브러리) 사용\n",
    "* 파이썬은 표준 라이브러리(Python Standard Library)를 제공하며, 별도 설치 없이 바로 import하여 사용할 수 있습니다.\n",
    "* 예: math, random, datetime, os 등."
   ]
  },
  {
   "cell_type": "code",
   "execution_count": 5,
   "id": "83989714-3c74-4a98-9981-a13b458cdb94",
   "metadata": {},
   "outputs": [
    {
     "name": "stdout",
     "output_type": "stream",
     "text": [
      "3.0\n"
     ]
    }
   ],
   "source": [
    "import math\n",
    "\n",
    "value = 9\n",
    "root = math.sqrt(value)\n",
    "print(root)  # 3.0"
   ]
  },
  {
   "cell_type": "markdown",
   "id": "37938464-c23d-4e2a-9fd3-69628a77a5b1",
   "metadata": {},
   "source": [
    "* 특정 함수(또는 변수)만 import"
   ]
  },
  {
   "cell_type": "code",
   "execution_count": 6,
   "id": "5d9fea7a-3ace-4877-b381-39979e7c48c2",
   "metadata": {},
   "outputs": [
    {
     "name": "stdout",
     "output_type": "stream",
     "text": [
      "4.0\n",
      "8.0\n"
     ]
    }
   ],
   "source": [
    "from math import sqrt, pow\n",
    "\n",
    "print(sqrt(16))  # 4.0\n",
    "print(pow(2, 3)) # 8.0"
   ]
  },
  {
   "cell_type": "markdown",
   "id": "a8b16876-2b46-420b-afce-50fb8db6b40f",
   "metadata": {},
   "source": [
    "* 별칭(alias) 사용"
   ]
  },
  {
   "cell_type": "code",
   "execution_count": 7,
   "id": "45ec30c7-7628-45f7-a0e8-fbd2772260dd",
   "metadata": {},
   "outputs": [
    {
     "name": "stdout",
     "output_type": "stream",
     "text": [
      "5.0\n"
     ]
    }
   ],
   "source": [
    "import math as m\n",
    "print(m.sqrt(25))  # 5.0"
   ]
  },
  {
   "cell_type": "code",
   "execution_count": 8,
   "id": "a5b66da6-4dab-4ce5-97d8-60b215a23058",
   "metadata": {},
   "outputs": [
    {
     "name": "stdout",
     "output_type": "stream",
     "text": [
      "6.0\n"
     ]
    }
   ],
   "source": [
    "from math import sqrt as s\n",
    "print(s(36))  # 6.0"
   ]
  },
  {
   "cell_type": "markdown",
   "id": "a2d306d4-4ae0-454a-88ab-cb5a68c738b2",
   "metadata": {},
   "source": [
    "## 2. 외부 라이브러리 사용 (pip)\n",
    "* 파이썬 패키지 인덱스(PyPI)에 올라온 외부 라이브러리는 pip 명령어로 설치 후 import하여 사용합니다.\n",
    "* 예: pip install requests, pip install numpy 등"
   ]
  },
  {
   "cell_type": "code",
   "execution_count": 9,
   "id": "2dd9e7d4-2328-4aab-9438-0871456bf21e",
   "metadata": {},
   "outputs": [
    {
     "name": "stdout",
     "output_type": "stream",
     "text": [
      "{'userId': 1, 'id': 1, 'title': 'sunt aut facere repellat provident occaecati excepturi optio reprehenderit', 'body': 'quia et suscipit\\nsuscipit recusandae consequuntur expedita et cum\\nreprehenderit molestiae ut ut quas totam\\nnostrum rerum est autem sunt rem eveniet architecto'}\n"
     ]
    }
   ],
   "source": [
    "import requests\n",
    "\n",
    "response = requests.get(\"https://jsonplaceholder.typicode.com/posts/1\")\n",
    "print(response.json())"
   ]
  },
  {
   "cell_type": "markdown",
   "id": "5a1ba64c-3b01-4b7a-83ac-507afe50d0da",
   "metadata": {},
   "source": [
    "### 가상환경(venv)에서 관리\n",
    "* 여러 프로젝트를 진행하다 보면 라이브러리 버전 충돌을 피하기 위해 가상환경을 구성하는 것이 일반적.\n",
    "    * python -m venv venv\n",
    "    * source venv/bin/activate (리눅스/맥) 또는 venv\\Scripts\\activate (윈도우)\n",
    "    * 이후 pip install 등 진행"
   ]
  },
  {
   "cell_type": "markdown",
   "id": "9c16cd53-f905-4090-bf17-6851ffa24bdb",
   "metadata": {},
   "source": [
    "## 3. 파일 생성\n",
    "### open() 함수의 기본 개념\n",
    "* 파이썬에서 파일을 열거나(open) 새로 만들 때 open() 함수를 사용합니다.\n",
    "* open() 함수는 파일 객체(핸들)를 반환하며, 이후에 이 파일 객체를 통해 읽기, 쓰기 등의 작업을 수행할 수 있습니다.\n",
    "* 사용이 끝나면 파일을 닫아야 (.close()) 리소스가 해제됩니다.\n",
    "    * 보통 with open(...) as f: 형태의 컨텍스트 매니저를 쓰면, 블록이 끝날 때 자동으로 파일을 닫아줘서 편리합니다."
   ]
  },
  {
   "cell_type": "markdown",
   "id": "d9a15b4d-84e8-42c1-ab41-3cd3f30f0a09",
   "metadata": {},
   "source": [
    "### 파일 열기 모드(Mode)\n",
    "open(filename, mode)에서 mode 파라미터로 어떤 용도로 파일을 열지 지정할 수 있습니다.\n",
    "\n",
    "* r (읽기 전용, 읽을 파일이 존재하지 않으면 FileNotFoundError 발생)\n",
    "* w (쓰기 전용, 파일이 없으면 새로 만들고, 파일이 이미 존재하면 내용을 전부 덮어씀)\n",
    "* x (쓰기 전용, 파일이 없을 때만 생성, 이미 존재하면 예외 발생)\n",
    "* a (추가 모드, 파일의 끝에 내용을 이어 씀, 파일이 없으면 생성)\n",
    "* r+, w+, a+ (읽기+쓰기 겸용 모드. 필요에 따라 사용)\n",
    "* b (바이너리 모드, 예: \"rb\", \"wb\" 등)\n",
    "* 텍스트가 아닌 이진 파일(이미지, 동영상 등)을 다룰 때 사용\n",
    "\n",
    "보통 텍스트 파일을 다룰 때는 \"r\", \"w\", \"a\" 정도가 가장 자주 쓰입니다."
   ]
  },
  {
   "cell_type": "markdown",
   "id": "6738cde3-50c9-4615-a415-1e7804e4226e",
   "metadata": {},
   "source": [
    "### 파일 쓰기(생성)\n",
    "#### w 모드: 쓰기 전용\n",
    "* 기존 파일이 있다면 내용을 다 지우고 새로 작성\n",
    "* 파일이 없으면 새로 생성"
   ]
  },
  {
   "cell_type": "code",
   "execution_count": 10,
   "id": "e1ee9f01-33cb-427c-a079-9db8abb1b420",
   "metadata": {},
   "outputs": [],
   "source": [
    "# 1) 파일 열기 (쓰기 모드)\n",
    "f = open(\"example.txt\", \"w\", encoding=\"utf-8\")\n",
    "\n",
    "# 2) 파일에 텍스트 쓰기\n",
    "f.write(\"Hello, World!\\n\")\n",
    "f.write(\"안녕하세요\\n\")\n",
    "\n",
    "# 3) 파일 닫기 (리소스 해제)\n",
    "f.close()"
   ]
  },
  {
   "cell_type": "markdown",
   "id": "9943958e-f9a1-4416-ac15-bc095ef1b8cb",
   "metadata": {},
   "source": [
    "#### with open(...) as f:\n",
    "* 파일을 여는 가장 권장되는 방법은 컨텍스트 매니저 사용\n",
    "* 블록을 벗어나면 자동으로 close()가 호출되어 편리하고, 에러가 발생해도 파일이 안전하게 닫힘"
   ]
  },
  {
   "cell_type": "code",
   "execution_count": 11,
   "id": "aaf5ff05-49fc-48cd-8722-ca011c8d998e",
   "metadata": {},
   "outputs": [],
   "source": [
    "with open(\"example2.txt\", \"w\", encoding=\"utf-8\") as f:\n",
    "    f.write(\"첫 번째 줄\\n\")\n",
    "    f.write(\"두 번째 줄\\n\")"
   ]
  },
  {
   "cell_type": "markdown",
   "id": "68bd98b5-d303-4b4d-81fb-73b19515cc6d",
   "metadata": {},
   "source": [
    "#### a 모드: 이어 쓰기(추가)\n",
    "* 파일이 없으면 만들고, 있으면 기존 내용 뒤에 추가해서 씀"
   ]
  },
  {
   "cell_type": "code",
   "execution_count": 12,
   "id": "bbd0a5c7-b8d7-46c1-9561-ca7ffce26539",
   "metadata": {},
   "outputs": [],
   "source": [
    "with open(\"example.txt\", \"a\", encoding=\"utf-8\") as f:\n",
    "    f.write(\"새로운 문장 추가\\n\")"
   ]
  },
  {
   "cell_type": "markdown",
   "id": "c7394226-600b-4936-8f21-f697700cdb2d",
   "metadata": {},
   "source": [
    "### 파일 읽기\n",
    "#### 전체 내용 읽기: read()\n",
    "* 텍스트 파일 전체를 한 번에 문자열로 가져옴"
   ]
  },
  {
   "cell_type": "code",
   "execution_count": 13,
   "id": "d7d7b519-7d1b-4012-a3e9-8aec7c9468f3",
   "metadata": {},
   "outputs": [
    {
     "name": "stdout",
     "output_type": "stream",
     "text": [
      "파일 전체 내용:\n",
      "Hello, World!\n",
      "안녕하세요\n",
      "새로운 문장 추가\n",
      "\n"
     ]
    }
   ],
   "source": [
    "with open(\"example.txt\", \"r\", encoding=\"utf-8\") as f:\n",
    "    content = f.read()\n",
    "    print(\"파일 전체 내용:\")\n",
    "    print(content)"
   ]
  },
  {
   "cell_type": "markdown",
   "id": "f2a9da79-dd9b-472d-87a9-c13349a9fd38",
   "metadata": {},
   "source": [
    "#### 한 줄씩 읽기: readline(), readlines()\n",
    "* readline(): 한 줄씩 읽어옴 (줄바꿈 문자를 포함). 더 읽을 줄이 없으면 빈 문자열을 반환.\n",
    "* readlines(): 파일 전체를 읽되, 각 줄을 리스트 원소로 만들어 반환"
   ]
  },
  {
   "cell_type": "code",
   "execution_count": 14,
   "id": "0d1a4333-0675-46dd-a28e-fc46a92fe70b",
   "metadata": {},
   "outputs": [
    {
     "name": "stdout",
     "output_type": "stream",
     "text": [
      "Hello, World!\n",
      "안녕하세요\n",
      "새로운 문장 추가\n"
     ]
    }
   ],
   "source": [
    "# readline() 사용 예시\n",
    "with open(\"example.txt\", \"r\", encoding=\"utf-8\") as f:\n",
    "    while True:\n",
    "        line = f.readline()\n",
    "        if not line:   # 더 이상 읽을 줄이 없으면 break\n",
    "            break\n",
    "        print(line.strip())  # .strip()으로 줄바꿈(\\n) 제거 후 출력"
   ]
  },
  {
   "cell_type": "code",
   "execution_count": 16,
   "id": "555a1fab-9b18-4a1b-a18d-3cfb03b089e1",
   "metadata": {},
   "outputs": [
    {
     "name": "stdout",
     "output_type": "stream",
     "text": [
      "0 : Hello, World!\n",
      "1 : 안녕하세요\n",
      "2 : 새로운 문장 추가\n"
     ]
    }
   ],
   "source": [
    "# readlines() 사용 예시\n",
    "with open(\"example.txt\", \"r\", encoding=\"utf-8\") as f:\n",
    "    lines = f.readlines()  # 한꺼번에 리스트로\n",
    "    for idx, line in enumerate(lines):\n",
    "        print(idx, \":\", line.strip())"
   ]
  }
 ],
 "metadata": {
  "kernelspec": {
   "display_name": "Python 3 (ipykernel)",
   "language": "python",
   "name": "python3"
  },
  "language_info": {
   "codemirror_mode": {
    "name": "ipython",
    "version": 3
   },
   "file_extension": ".py",
   "mimetype": "text/x-python",
   "name": "python",
   "nbconvert_exporter": "python",
   "pygments_lexer": "ipython3",
   "version": "3.12.7"
  }
 },
 "nbformat": 4,
 "nbformat_minor": 5
}
